{
  "nbformat": 4,
  "nbformat_minor": 0,
  "metadata": {
    "colab": {
      "provenance": [],
      "gpuType": "T4"
    },
    "kernelspec": {
      "name": "python3",
      "display_name": "Python 3"
    },
    "accelerator": "GPU"
  },
  "cells": [
    {
      "cell_type": "markdown",
      "metadata": {
        "id": "aO-7t1Y7-hV4"
      },
      "source": [
        "# Import Libraries"
      ]
    },
    {
      "cell_type": "code",
      "source": [
        "from google.colab import drive\n",
        "drive.mount('/content/drive')\n",
        "%cd 'drive/My Drive/ERA V1/Assignment 9/src'"
      ],
      "metadata": {
        "colab": {
          "base_uri": "https://localhost:8080/"
        },
        "id": "0R7T0CqDNWPn",
        "outputId": "2519119d-9014-4ce7-b0c9-f7c49411fb5e"
      },
      "execution_count": 1,
      "outputs": [
        {
          "output_type": "stream",
          "name": "stdout",
          "text": [
            "Mounted at /content/drive\n",
            "/content/drive/My Drive/ERA V1/Assignment 9/src\n"
          ]
        }
      ]
    },
    {
      "cell_type": "code",
      "metadata": {
        "id": "8kH16rnZ7wt_"
      },
      "source": [
        "from __future__ import print_function\n",
        "import torch\n",
        "import torch.nn as nn\n",
        "import torch.nn.functional as F\n",
        "import torch.optim as optim\n",
        "import torchvision\n",
        "from torchvision import transforms\n",
        "from torchsummary import summary\n",
        "from tqdm import tqdm\n",
        "from model import *\n",
        "from utils import *\n",
        "from dataset import cifar10Dataset, get_loader\n",
        "%matplotlib inline\n",
        "import matplotlib.pyplot as plt\n",
        "import numpy as np"
      ],
      "execution_count": 2,
      "outputs": []
    },
    {
      "cell_type": "code",
      "source": [
        "SEED = 1\n",
        "\n",
        "# CUDA?\n",
        "use_cuda = torch.cuda.is_available()\n",
        "print(\"CUDA Available?\", use_cuda)\n",
        "\n",
        "# For reproducibility\n",
        "torch.manual_seed(SEED)\n",
        "\n",
        "if use_cuda:\n",
        "    torch.cuda.manual_seed(SEED)"
      ],
      "metadata": {
        "colab": {
          "base_uri": "https://localhost:8080/"
        },
        "id": "vutbROkMUHxc",
        "outputId": "c7afd2e9-0712-4653-cb2e-10b70dbb4673"
      },
      "execution_count": 3,
      "outputs": [
        {
          "output_type": "stream",
          "name": "stdout",
          "text": [
            "CUDA Available? False\n"
          ]
        }
      ]
    },
    {
      "cell_type": "code",
      "source": [
        "import albumentations as A\n",
        "from albumentations.pytorch import ToTensorV2\n",
        "\n",
        "train_transforms = A.Compose([\n",
        "        A.HorizontalFlip(p=0.05),\n",
        "        A.ShiftScaleRotate(scale_limit=0.1, rotate_limit=10),\n",
        "        A.Normalize((0.4914, 0.4822, 0.4465), (0.2470, 0.2435, 0.2616)), #normalize\n",
        "        A.CoarseDropout(max_holes = 1, max_height=16, max_width=16, min_holes = 1, min_height=16, min_width=16, fill_value=0.49, mask_fill_value =None),\n",
        "        ToTensorV2()])\n",
        "\n",
        "test_transforms = A.Compose([\n",
        "        A.Normalize((0.4914, 0.4822, 0.4465), (0.2470, 0.2435, 0.2616)), #normalize\n",
        "        ToTensorV2()])"
      ],
      "metadata": {
        "id": "IIPsF9MBpSh3"
      },
      "execution_count": 4,
      "outputs": []
    },
    {
      "cell_type": "code",
      "source": [
        "train_data = cifar10Dataset('./data', train=True, download=True, transform=train_transforms) #\n",
        "test_data = cifar10Dataset('./data', train=False, download=True, transform=test_transforms) #"
      ],
      "metadata": {
        "colab": {
          "base_uri": "https://localhost:8080/"
        },
        "id": "B1NCKt4jHaoo",
        "outputId": "e301e5a9-30c8-433e-b62a-137111944d6c"
      },
      "execution_count": 5,
      "outputs": [
        {
          "output_type": "stream",
          "name": "stdout",
          "text": [
            "Files already downloaded and verified\n",
            "Files already downloaded and verified\n"
          ]
        }
      ]
    },
    {
      "cell_type": "code",
      "source": [
        "label_names = ['airplane', 'automobile', 'bird', 'cat', 'deer', 'dog', 'frog', 'horse', 'ship', 'truck']"
      ],
      "metadata": {
        "id": "UI8Jd9PLNT65"
      },
      "execution_count": 6,
      "outputs": []
    },
    {
      "cell_type": "markdown",
      "metadata": {
        "id": "qgldp_3-Dn0c"
      },
      "source": [
        "# Dataloader Arguments & Test/Train Dataloaders\n"
      ]
    },
    {
      "cell_type": "code",
      "metadata": {
        "id": "C8OLDR79DrHG"
      },
      "source": [
        "# train dataloader and test loader\n",
        "batch_size = 128\n",
        "train_loader, test_loader = get_loader(train_data, test_data, batch_size, use_cuda)"
      ],
      "execution_count": 7,
      "outputs": []
    },
    {
      "cell_type": "markdown",
      "source": [
        "# Model Params\n",
        "\n"
      ],
      "metadata": {
        "id": "jkw_iR6_CETc"
      }
    },
    {
      "cell_type": "code",
      "source": [
        "from model import Net\n",
        "\n",
        "use_cuda = torch.cuda.is_available()\n",
        "device = torch.device(\"cuda\" if use_cuda else \"cpu\")\n",
        "\n",
        "model = Net().to(device)\n",
        "summary(model, input_size=(3, 32, 32))"
      ],
      "metadata": {
        "colab": {
          "base_uri": "https://localhost:8080/"
        },
        "id": "GwGFm-H1CLF4",
        "outputId": "647ed04e-307a-43b2-a034-f52bb61e892f"
      },
      "execution_count": 8,
      "outputs": [
        {
          "output_type": "stream",
          "name": "stdout",
          "text": [
            "----------------------------------------------------------------\n",
            "        Layer (type)               Output Shape         Param #\n",
            "================================================================\n",
            "            Conv2d-1           [-1, 32, 32, 32]             864\n",
            "       BatchNorm2d-2           [-1, 32, 32, 32]              64\n",
            "           Dropout-3           [-1, 32, 32, 32]               0\n",
            "              ReLU-4           [-1, 32, 32, 32]               0\n",
            "            Conv2d-5           [-1, 32, 32, 32]           9,216\n",
            "       BatchNorm2d-6           [-1, 32, 32, 32]              64\n",
            "           Dropout-7           [-1, 32, 32, 32]               0\n",
            "              ReLU-8           [-1, 32, 32, 32]               0\n",
            "            Conv2d-9           [-1, 32, 15, 15]           9,216\n",
            "      BatchNorm2d-10           [-1, 32, 15, 15]              64\n",
            "          Dropout-11           [-1, 32, 15, 15]               0\n",
            "             ReLU-12           [-1, 32, 15, 15]               0\n",
            "           Conv2d-13           [-1, 64, 15, 15]          18,432\n",
            "      BatchNorm2d-14           [-1, 64, 15, 15]             128\n",
            "          Dropout-15           [-1, 64, 15, 15]               0\n",
            "             ReLU-16           [-1, 64, 15, 15]               0\n",
            "           Conv2d-17           [-1, 64, 15, 15]          36,864\n",
            "      BatchNorm2d-18           [-1, 64, 15, 15]             128\n",
            "          Dropout-19           [-1, 64, 15, 15]               0\n",
            "             ReLU-20           [-1, 64, 15, 15]               0\n",
            "           Conv2d-21             [-1, 64, 7, 7]          36,864\n",
            "      BatchNorm2d-22             [-1, 64, 7, 7]             128\n",
            "          Dropout-23             [-1, 64, 7, 7]               0\n",
            "             ReLU-24             [-1, 64, 7, 7]               0\n",
            "           Conv2d-25             [-1, 64, 7, 7]             640\n",
            "             ReLU-26             [-1, 64, 7, 7]               0\n",
            "           Conv2d-27            [-1, 128, 7, 7]           8,320\n",
            "      BatchNorm2d-28            [-1, 128, 7, 7]             256\n",
            "             ReLU-29            [-1, 128, 7, 7]               0\n",
            "           Conv2d-30            [-1, 128, 7, 7]           1,280\n",
            "             ReLU-31            [-1, 128, 7, 7]               0\n",
            "           Conv2d-32            [-1, 128, 7, 7]          16,512\n",
            "      BatchNorm2d-33            [-1, 128, 7, 7]             256\n",
            "             ReLU-34            [-1, 128, 7, 7]               0\n",
            "           Conv2d-35            [-1, 128, 7, 7]           1,280\n",
            "             ReLU-36            [-1, 128, 7, 7]               0\n",
            "           Conv2d-37            [-1, 128, 7, 7]          16,512\n",
            "      BatchNorm2d-38            [-1, 128, 7, 7]             256\n",
            "             ReLU-39            [-1, 128, 7, 7]               0\n",
            "        AvgPool2d-40            [-1, 128, 1, 1]               0\n",
            "           Conv2d-41             [-1, 10, 1, 1]           1,280\n",
            "================================================================\n",
            "Total params: 158,624\n",
            "Trainable params: 158,624\n",
            "Non-trainable params: 0\n",
            "----------------------------------------------------------------\n",
            "Input size (MB): 0.01\n",
            "Forward/backward pass size (MB): 3.87\n",
            "Params size (MB): 0.61\n",
            "Estimated Total Size (MB): 4.48\n",
            "----------------------------------------------------------------\n"
          ]
        }
      ]
    },
    {
      "cell_type": "markdown",
      "source": [
        "# Training and Testing"
      ],
      "metadata": {
        "id": "tSxXpQ7tCbxu"
      }
    },
    {
      "cell_type": "code",
      "source": [
        "train_losses_t = []\n",
        "test_losses_t = []\n",
        "train_acc_t = []\n",
        "test_acc_t = []\n",
        "\n",
        "model =  Net().to(device)\n",
        "optimizer = optim.SGD(model.parameters(), lr=0.01, momentum=0.9)\n",
        "EPOCHS = 80\n",
        "for epoch in range(EPOCHS):\n",
        "    print(\"EPOCH:\", epoch)\n",
        "    train_losses, train_acc = train(model, device, train_loader, optimizer, epoch)\n",
        "    train_losses_t += train_losses\n",
        "    train_acc_t.append(train_acc)\n",
        "    test_losses, test_acc = test(model, device, test_loader)\n",
        "    test_losses_t += test_losses\n",
        "    test_acc_t.append(test_acc)"
      ],
      "metadata": {
        "colab": {
          "base_uri": "https://localhost:8080/"
        },
        "outputId": "3c3f5a4b-a6dc-4106-8ef2-c5f2283f72df",
        "id": "rv2_LGXnCbxv"
      },
      "execution_count": null,
      "outputs": [
        {
          "output_type": "stream",
          "name": "stdout",
          "text": [
            "EPOCH: 0\n"
          ]
        },
        {
          "output_type": "stream",
          "name": "stderr",
          "text": [
            "Loss=1.519556999206543 Batch_id=781 Accuracy=37.60: 100%|██████████| 782/782 [05:52<00:00,  2.22it/s]\n"
          ]
        },
        {
          "output_type": "stream",
          "name": "stdout",
          "text": [
            "\n",
            "Test set: Average loss: 1.5407, Accuracy: 4682/10000 (46.82%)\n",
            "\n",
            "EPOCH: 1\n"
          ]
        },
        {
          "output_type": "stream",
          "name": "stderr",
          "text": [
            "Loss=1.3034554719924927 Batch_id=57 Accuracy=48.25:   7%|▋         | 58/782 [01:08<23:05,  1.91s/it]"
          ]
        }
      ]
    },
    {
      "cell_type": "code",
      "source": [
        "plot_loss_acc(train_losses_t, train_acc_t, test_losses_t, test_acc_t)"
      ],
      "metadata": {
        "id": "2EJ7TI1ECbxx"
      },
      "execution_count": null,
      "outputs": []
    }
  ]
}